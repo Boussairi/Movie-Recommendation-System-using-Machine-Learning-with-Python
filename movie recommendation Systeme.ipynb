{
 "cells": [
  {
   "cell_type": "code",
   "execution_count": 2,
   "id": "382ae3e3-6881-45eb-b940-d2fc9a826a6f",
   "metadata": {},
   "outputs": [],
   "source": [
    "import numpy as np \n",
    "import pandas as pd\n",
    "import json\n",
    "import difflib\n",
    "from sklearn.feature_extraction.text import TfidfVectorizer\n",
    "from sklearn.metrics.pairwise import cosine_similarity\n",
    "import pickle"
   ]
  },
  {
   "cell_type": "code",
   "execution_count": 3,
   "id": "37c3b707-4485-417f-8dca-4ec308321c1c",
   "metadata": {},
   "outputs": [],
   "source": [
    "data=pd.read_csv('movies.csv')"
   ]
  },
  {
   "cell_type": "code",
   "execution_count": 4,
   "id": "7139fd95-5cc4-48f3-8cf3-c2e73f447d4b",
   "metadata": {},
   "outputs": [
    {
     "data": {
      "text/html": [
       "<div>\n",
       "<style scoped>\n",
       "    .dataframe tbody tr th:only-of-type {\n",
       "        vertical-align: middle;\n",
       "    }\n",
       "\n",
       "    .dataframe tbody tr th {\n",
       "        vertical-align: top;\n",
       "    }\n",
       "\n",
       "    .dataframe thead th {\n",
       "        text-align: right;\n",
       "    }\n",
       "</style>\n",
       "<table border=\"1\" class=\"dataframe\">\n",
       "  <thead>\n",
       "    <tr style=\"text-align: right;\">\n",
       "      <th></th>\n",
       "      <th>index</th>\n",
       "      <th>budget</th>\n",
       "      <th>genres</th>\n",
       "      <th>homepage</th>\n",
       "      <th>id</th>\n",
       "      <th>keywords</th>\n",
       "      <th>original_language</th>\n",
       "      <th>original_title</th>\n",
       "      <th>overview</th>\n",
       "      <th>popularity</th>\n",
       "      <th>...</th>\n",
       "      <th>runtime</th>\n",
       "      <th>spoken_languages</th>\n",
       "      <th>status</th>\n",
       "      <th>tagline</th>\n",
       "      <th>title</th>\n",
       "      <th>vote_average</th>\n",
       "      <th>vote_count</th>\n",
       "      <th>cast</th>\n",
       "      <th>crew</th>\n",
       "      <th>director</th>\n",
       "    </tr>\n",
       "  </thead>\n",
       "  <tbody>\n",
       "    <tr>\n",
       "      <th>0</th>\n",
       "      <td>0</td>\n",
       "      <td>237000000</td>\n",
       "      <td>Action Adventure Fantasy Science Fiction</td>\n",
       "      <td>http://www.avatarmovie.com/</td>\n",
       "      <td>19995</td>\n",
       "      <td>culture clash future space war space colony so...</td>\n",
       "      <td>en</td>\n",
       "      <td>Avatar</td>\n",
       "      <td>In the 22nd century, a paraplegic Marine is di...</td>\n",
       "      <td>150.437577</td>\n",
       "      <td>...</td>\n",
       "      <td>162.0</td>\n",
       "      <td>[{\"iso_639_1\": \"en\", \"name\": \"English\"}, {\"iso...</td>\n",
       "      <td>Released</td>\n",
       "      <td>Enter the World of Pandora.</td>\n",
       "      <td>Avatar</td>\n",
       "      <td>7.2</td>\n",
       "      <td>11800</td>\n",
       "      <td>Sam Worthington Zoe Saldana Sigourney Weaver S...</td>\n",
       "      <td>[{'name': 'Stephen E. Rivkin', 'gender': 0, 'd...</td>\n",
       "      <td>James Cameron</td>\n",
       "    </tr>\n",
       "    <tr>\n",
       "      <th>1</th>\n",
       "      <td>1</td>\n",
       "      <td>300000000</td>\n",
       "      <td>Adventure Fantasy Action</td>\n",
       "      <td>http://disney.go.com/disneypictures/pirates/</td>\n",
       "      <td>285</td>\n",
       "      <td>ocean drug abuse exotic island east india trad...</td>\n",
       "      <td>en</td>\n",
       "      <td>Pirates of the Caribbean: At World's End</td>\n",
       "      <td>Captain Barbossa, long believed to be dead, ha...</td>\n",
       "      <td>139.082615</td>\n",
       "      <td>...</td>\n",
       "      <td>169.0</td>\n",
       "      <td>[{\"iso_639_1\": \"en\", \"name\": \"English\"}]</td>\n",
       "      <td>Released</td>\n",
       "      <td>At the end of the world, the adventure begins.</td>\n",
       "      <td>Pirates of the Caribbean: At World's End</td>\n",
       "      <td>6.9</td>\n",
       "      <td>4500</td>\n",
       "      <td>Johnny Depp Orlando Bloom Keira Knightley Stel...</td>\n",
       "      <td>[{'name': 'Dariusz Wolski', 'gender': 2, 'depa...</td>\n",
       "      <td>Gore Verbinski</td>\n",
       "    </tr>\n",
       "  </tbody>\n",
       "</table>\n",
       "<p>2 rows × 24 columns</p>\n",
       "</div>"
      ],
      "text/plain": [
       "   index     budget                                    genres  \\\n",
       "0      0  237000000  Action Adventure Fantasy Science Fiction   \n",
       "1      1  300000000                  Adventure Fantasy Action   \n",
       "\n",
       "                                       homepage     id  \\\n",
       "0                   http://www.avatarmovie.com/  19995   \n",
       "1  http://disney.go.com/disneypictures/pirates/    285   \n",
       "\n",
       "                                            keywords original_language  \\\n",
       "0  culture clash future space war space colony so...                en   \n",
       "1  ocean drug abuse exotic island east india trad...                en   \n",
       "\n",
       "                             original_title  \\\n",
       "0                                    Avatar   \n",
       "1  Pirates of the Caribbean: At World's End   \n",
       "\n",
       "                                            overview  popularity  ... runtime  \\\n",
       "0  In the 22nd century, a paraplegic Marine is di...  150.437577  ...   162.0   \n",
       "1  Captain Barbossa, long believed to be dead, ha...  139.082615  ...   169.0   \n",
       "\n",
       "                                    spoken_languages    status  \\\n",
       "0  [{\"iso_639_1\": \"en\", \"name\": \"English\"}, {\"iso...  Released   \n",
       "1           [{\"iso_639_1\": \"en\", \"name\": \"English\"}]  Released   \n",
       "\n",
       "                                          tagline  \\\n",
       "0                     Enter the World of Pandora.   \n",
       "1  At the end of the world, the adventure begins.   \n",
       "\n",
       "                                      title vote_average vote_count  \\\n",
       "0                                    Avatar          7.2      11800   \n",
       "1  Pirates of the Caribbean: At World's End          6.9       4500   \n",
       "\n",
       "                                                cast  \\\n",
       "0  Sam Worthington Zoe Saldana Sigourney Weaver S...   \n",
       "1  Johnny Depp Orlando Bloom Keira Knightley Stel...   \n",
       "\n",
       "                                                crew        director  \n",
       "0  [{'name': 'Stephen E. Rivkin', 'gender': 0, 'd...   James Cameron  \n",
       "1  [{'name': 'Dariusz Wolski', 'gender': 2, 'depa...  Gore Verbinski  \n",
       "\n",
       "[2 rows x 24 columns]"
      ]
     },
     "execution_count": 4,
     "metadata": {},
     "output_type": "execute_result"
    }
   ],
   "source": [
    "data.head(2)"
   ]
  },
  {
   "cell_type": "code",
   "execution_count": 5,
   "id": "573c26f4-5b57-4caf-9e2b-2868d2d30a83",
   "metadata": {},
   "outputs": [
    {
     "data": {
      "text/plain": [
       "(4803, 24)"
      ]
     },
     "execution_count": 5,
     "metadata": {},
     "output_type": "execute_result"
    }
   ],
   "source": [
    "data.shape"
   ]
  },
  {
   "cell_type": "code",
   "execution_count": 6,
   "id": "2f0476ad-e205-48a3-a472-20965412d9b6",
   "metadata": {},
   "outputs": [
    {
     "data": {
      "text/html": [
       "<div>\n",
       "<style scoped>\n",
       "    .dataframe tbody tr th:only-of-type {\n",
       "        vertical-align: middle;\n",
       "    }\n",
       "\n",
       "    .dataframe tbody tr th {\n",
       "        vertical-align: top;\n",
       "    }\n",
       "\n",
       "    .dataframe thead th {\n",
       "        text-align: right;\n",
       "    }\n",
       "</style>\n",
       "<table border=\"1\" class=\"dataframe\">\n",
       "  <thead>\n",
       "    <tr style=\"text-align: right;\">\n",
       "      <th></th>\n",
       "      <th>index</th>\n",
       "      <th>budget</th>\n",
       "      <th>id</th>\n",
       "      <th>popularity</th>\n",
       "      <th>revenue</th>\n",
       "      <th>runtime</th>\n",
       "      <th>vote_average</th>\n",
       "      <th>vote_count</th>\n",
       "    </tr>\n",
       "  </thead>\n",
       "  <tbody>\n",
       "    <tr>\n",
       "      <th>count</th>\n",
       "      <td>4803.000000</td>\n",
       "      <td>4.803000e+03</td>\n",
       "      <td>4803.000000</td>\n",
       "      <td>4803.000000</td>\n",
       "      <td>4.803000e+03</td>\n",
       "      <td>4801.000000</td>\n",
       "      <td>4803.000000</td>\n",
       "      <td>4803.000000</td>\n",
       "    </tr>\n",
       "    <tr>\n",
       "      <th>mean</th>\n",
       "      <td>2401.000000</td>\n",
       "      <td>2.904504e+07</td>\n",
       "      <td>57165.484281</td>\n",
       "      <td>21.492301</td>\n",
       "      <td>8.226064e+07</td>\n",
       "      <td>106.875859</td>\n",
       "      <td>6.092172</td>\n",
       "      <td>690.217989</td>\n",
       "    </tr>\n",
       "    <tr>\n",
       "      <th>std</th>\n",
       "      <td>1386.651002</td>\n",
       "      <td>4.072239e+07</td>\n",
       "      <td>88694.614033</td>\n",
       "      <td>31.816650</td>\n",
       "      <td>1.628571e+08</td>\n",
       "      <td>22.611935</td>\n",
       "      <td>1.194612</td>\n",
       "      <td>1234.585891</td>\n",
       "    </tr>\n",
       "    <tr>\n",
       "      <th>min</th>\n",
       "      <td>0.000000</td>\n",
       "      <td>0.000000e+00</td>\n",
       "      <td>5.000000</td>\n",
       "      <td>0.000000</td>\n",
       "      <td>0.000000e+00</td>\n",
       "      <td>0.000000</td>\n",
       "      <td>0.000000</td>\n",
       "      <td>0.000000</td>\n",
       "    </tr>\n",
       "    <tr>\n",
       "      <th>25%</th>\n",
       "      <td>1200.500000</td>\n",
       "      <td>7.900000e+05</td>\n",
       "      <td>9014.500000</td>\n",
       "      <td>4.668070</td>\n",
       "      <td>0.000000e+00</td>\n",
       "      <td>94.000000</td>\n",
       "      <td>5.600000</td>\n",
       "      <td>54.000000</td>\n",
       "    </tr>\n",
       "    <tr>\n",
       "      <th>50%</th>\n",
       "      <td>2401.000000</td>\n",
       "      <td>1.500000e+07</td>\n",
       "      <td>14629.000000</td>\n",
       "      <td>12.921594</td>\n",
       "      <td>1.917000e+07</td>\n",
       "      <td>103.000000</td>\n",
       "      <td>6.200000</td>\n",
       "      <td>235.000000</td>\n",
       "    </tr>\n",
       "    <tr>\n",
       "      <th>75%</th>\n",
       "      <td>3601.500000</td>\n",
       "      <td>4.000000e+07</td>\n",
       "      <td>58610.500000</td>\n",
       "      <td>28.313505</td>\n",
       "      <td>9.291719e+07</td>\n",
       "      <td>118.000000</td>\n",
       "      <td>6.800000</td>\n",
       "      <td>737.000000</td>\n",
       "    </tr>\n",
       "    <tr>\n",
       "      <th>max</th>\n",
       "      <td>4802.000000</td>\n",
       "      <td>3.800000e+08</td>\n",
       "      <td>459488.000000</td>\n",
       "      <td>875.581305</td>\n",
       "      <td>2.787965e+09</td>\n",
       "      <td>338.000000</td>\n",
       "      <td>10.000000</td>\n",
       "      <td>13752.000000</td>\n",
       "    </tr>\n",
       "  </tbody>\n",
       "</table>\n",
       "</div>"
      ],
      "text/plain": [
       "             index        budget             id   popularity       revenue  \\\n",
       "count  4803.000000  4.803000e+03    4803.000000  4803.000000  4.803000e+03   \n",
       "mean   2401.000000  2.904504e+07   57165.484281    21.492301  8.226064e+07   \n",
       "std    1386.651002  4.072239e+07   88694.614033    31.816650  1.628571e+08   \n",
       "min       0.000000  0.000000e+00       5.000000     0.000000  0.000000e+00   \n",
       "25%    1200.500000  7.900000e+05    9014.500000     4.668070  0.000000e+00   \n",
       "50%    2401.000000  1.500000e+07   14629.000000    12.921594  1.917000e+07   \n",
       "75%    3601.500000  4.000000e+07   58610.500000    28.313505  9.291719e+07   \n",
       "max    4802.000000  3.800000e+08  459488.000000   875.581305  2.787965e+09   \n",
       "\n",
       "           runtime  vote_average    vote_count  \n",
       "count  4801.000000   4803.000000   4803.000000  \n",
       "mean    106.875859      6.092172    690.217989  \n",
       "std      22.611935      1.194612   1234.585891  \n",
       "min       0.000000      0.000000      0.000000  \n",
       "25%      94.000000      5.600000     54.000000  \n",
       "50%     103.000000      6.200000    235.000000  \n",
       "75%     118.000000      6.800000    737.000000  \n",
       "max     338.000000     10.000000  13752.000000  "
      ]
     },
     "execution_count": 6,
     "metadata": {},
     "output_type": "execute_result"
    }
   ],
   "source": [
    "data.describe()"
   ]
  },
  {
   "cell_type": "code",
   "execution_count": 7,
   "id": "1be0a0af-b4a4-4d11-8753-a9fdbefd6d41",
   "metadata": {},
   "outputs": [
    {
     "data": {
      "text/plain": [
       "index                      0\n",
       "budget                     0\n",
       "genres                    28\n",
       "homepage                3091\n",
       "id                         0\n",
       "keywords                 412\n",
       "original_language          0\n",
       "original_title             0\n",
       "overview                   3\n",
       "popularity                 0\n",
       "production_companies       0\n",
       "production_countries       0\n",
       "release_date               1\n",
       "revenue                    0\n",
       "runtime                    2\n",
       "spoken_languages           0\n",
       "status                     0\n",
       "tagline                  844\n",
       "title                      0\n",
       "vote_average               0\n",
       "vote_count                 0\n",
       "cast                      43\n",
       "crew                       0\n",
       "director                  30\n",
       "dtype: int64"
      ]
     },
     "execution_count": 7,
     "metadata": {},
     "output_type": "execute_result"
    }
   ],
   "source": [
    "data.isna().sum()"
   ]
  },
  {
   "cell_type": "code",
   "execution_count": 8,
   "id": "6aad81b8-688d-4206-a70c-a60dd671421d",
   "metadata": {},
   "outputs": [
    {
     "data": {
      "text/plain": [
       "'[{\"name\": \"Ingenious Film Partners\", \"id\": 289}, {\"name\": \"Twentieth Century Fox Film Corporation\", \"id\": 306}, {\"name\": \"Dune Entertainment\", \"id\": 444}, {\"name\": \"Lightstorm Entertainment\", \"id\": 574}]'"
      ]
     },
     "execution_count": 8,
     "metadata": {},
     "output_type": "execute_result"
    }
   ],
   "source": [
    "data['production_companies'][0]"
   ]
  },
  {
   "cell_type": "code",
   "execution_count": 9,
   "id": "6238cfe3-f1b0-4565-8ca1-f841cd0bb3b2",
   "metadata": {},
   "outputs": [],
   "source": [
    "def deleate_features(df):\n",
    "    df.drop(columns=['budget','homepage','id','status'],axis=1,inplace=True)\n",
    "    return df"
   ]
  },
  {
   "cell_type": "code",
   "execution_count": 10,
   "id": "8935fa36-4da8-4df3-bb0d-b177cd8bdfb7",
   "metadata": {},
   "outputs": [],
   "source": [
    "df=deleate_features(data)"
   ]
  },
  {
   "cell_type": "code",
   "execution_count": 11,
   "id": "4cdb329c-e92c-4f25-9c9e-7613d83d4687",
   "metadata": {},
   "outputs": [
    {
     "data": {
      "text/plain": [
       "(4803, 20)"
      ]
     },
     "execution_count": 11,
     "metadata": {},
     "output_type": "execute_result"
    }
   ],
   "source": [
    "df.shape"
   ]
  },
  {
   "cell_type": "code",
   "execution_count": 12,
   "id": "af05b6c1-4fce-4ff8-a9b1-5de5acecb9e7",
   "metadata": {},
   "outputs": [
    {
     "data": {
      "text/html": [
       "<div>\n",
       "<style scoped>\n",
       "    .dataframe tbody tr th:only-of-type {\n",
       "        vertical-align: middle;\n",
       "    }\n",
       "\n",
       "    .dataframe tbody tr th {\n",
       "        vertical-align: top;\n",
       "    }\n",
       "\n",
       "    .dataframe thead th {\n",
       "        text-align: right;\n",
       "    }\n",
       "</style>\n",
       "<table border=\"1\" class=\"dataframe\">\n",
       "  <thead>\n",
       "    <tr style=\"text-align: right;\">\n",
       "      <th></th>\n",
       "      <th>index</th>\n",
       "      <th>genres</th>\n",
       "      <th>keywords</th>\n",
       "      <th>original_language</th>\n",
       "      <th>original_title</th>\n",
       "      <th>overview</th>\n",
       "      <th>popularity</th>\n",
       "      <th>production_companies</th>\n",
       "      <th>production_countries</th>\n",
       "      <th>release_date</th>\n",
       "      <th>revenue</th>\n",
       "      <th>runtime</th>\n",
       "      <th>spoken_languages</th>\n",
       "      <th>tagline</th>\n",
       "      <th>title</th>\n",
       "      <th>vote_average</th>\n",
       "      <th>vote_count</th>\n",
       "      <th>cast</th>\n",
       "      <th>crew</th>\n",
       "      <th>director</th>\n",
       "    </tr>\n",
       "  </thead>\n",
       "  <tbody>\n",
       "    <tr>\n",
       "      <th>4799</th>\n",
       "      <td>4799</td>\n",
       "      <td>Comedy Romance</td>\n",
       "      <td>NaN</td>\n",
       "      <td>en</td>\n",
       "      <td>Newlyweds</td>\n",
       "      <td>A newlywed couple's honeymoon is upended by th...</td>\n",
       "      <td>0.642552</td>\n",
       "      <td>[]</td>\n",
       "      <td>[]</td>\n",
       "      <td>2011-12-26</td>\n",
       "      <td>0</td>\n",
       "      <td>85.0</td>\n",
       "      <td>[]</td>\n",
       "      <td>A newlywed couple's honeymoon is upended by th...</td>\n",
       "      <td>Newlyweds</td>\n",
       "      <td>5.9</td>\n",
       "      <td>5</td>\n",
       "      <td>Edward Burns Kerry Bish\\u00e9 Marsha Dietlein ...</td>\n",
       "      <td>[{'name': 'Edward Burns', 'gender': 2, 'depart...</td>\n",
       "      <td>Edward Burns</td>\n",
       "    </tr>\n",
       "    <tr>\n",
       "      <th>4800</th>\n",
       "      <td>4800</td>\n",
       "      <td>Comedy Drama Romance TV Movie</td>\n",
       "      <td>date love at first sight narration investigati...</td>\n",
       "      <td>en</td>\n",
       "      <td>Signed, Sealed, Delivered</td>\n",
       "      <td>\"Signed, Sealed, Delivered\" introduces a dedic...</td>\n",
       "      <td>1.444476</td>\n",
       "      <td>[{\"name\": \"Front Street Pictures\", \"id\": 3958}...</td>\n",
       "      <td>[{\"iso_3166_1\": \"US\", \"name\": \"United States o...</td>\n",
       "      <td>2013-10-13</td>\n",
       "      <td>0</td>\n",
       "      <td>120.0</td>\n",
       "      <td>[{\"iso_639_1\": \"en\", \"name\": \"English\"}]</td>\n",
       "      <td>NaN</td>\n",
       "      <td>Signed, Sealed, Delivered</td>\n",
       "      <td>7.0</td>\n",
       "      <td>6</td>\n",
       "      <td>Eric Mabius Kristin Booth Crystal Lowe Geoff G...</td>\n",
       "      <td>[{'name': 'Carla Hetland', 'gender': 0, 'depar...</td>\n",
       "      <td>Scott Smith</td>\n",
       "    </tr>\n",
       "    <tr>\n",
       "      <th>4801</th>\n",
       "      <td>4801</td>\n",
       "      <td>NaN</td>\n",
       "      <td>NaN</td>\n",
       "      <td>en</td>\n",
       "      <td>Shanghai Calling</td>\n",
       "      <td>When ambitious New York attorney Sam is sent t...</td>\n",
       "      <td>0.857008</td>\n",
       "      <td>[]</td>\n",
       "      <td>[{\"iso_3166_1\": \"US\", \"name\": \"United States o...</td>\n",
       "      <td>2012-05-03</td>\n",
       "      <td>0</td>\n",
       "      <td>98.0</td>\n",
       "      <td>[{\"iso_639_1\": \"en\", \"name\": \"English\"}]</td>\n",
       "      <td>A New Yorker in Shanghai</td>\n",
       "      <td>Shanghai Calling</td>\n",
       "      <td>5.7</td>\n",
       "      <td>7</td>\n",
       "      <td>Daniel Henney Eliza Coupe Bill Paxton Alan Ruc...</td>\n",
       "      <td>[{'name': 'Daniel Hsia', 'gender': 2, 'departm...</td>\n",
       "      <td>Daniel Hsia</td>\n",
       "    </tr>\n",
       "    <tr>\n",
       "      <th>4802</th>\n",
       "      <td>4802</td>\n",
       "      <td>Documentary</td>\n",
       "      <td>obsession camcorder crush dream girl</td>\n",
       "      <td>en</td>\n",
       "      <td>My Date with Drew</td>\n",
       "      <td>Ever since the second grade when he first saw ...</td>\n",
       "      <td>1.929883</td>\n",
       "      <td>[{\"name\": \"rusty bear entertainment\", \"id\": 87...</td>\n",
       "      <td>[{\"iso_3166_1\": \"US\", \"name\": \"United States o...</td>\n",
       "      <td>2005-08-05</td>\n",
       "      <td>0</td>\n",
       "      <td>90.0</td>\n",
       "      <td>[{\"iso_639_1\": \"en\", \"name\": \"English\"}]</td>\n",
       "      <td>NaN</td>\n",
       "      <td>My Date with Drew</td>\n",
       "      <td>6.3</td>\n",
       "      <td>16</td>\n",
       "      <td>Drew Barrymore Brian Herzlinger Corey Feldman ...</td>\n",
       "      <td>[{'name': 'Clark Peterson', 'gender': 2, 'depa...</td>\n",
       "      <td>Brian Herzlinger</td>\n",
       "    </tr>\n",
       "  </tbody>\n",
       "</table>\n",
       "</div>"
      ],
      "text/plain": [
       "      index                         genres  \\\n",
       "4799   4799                 Comedy Romance   \n",
       "4800   4800  Comedy Drama Romance TV Movie   \n",
       "4801   4801                            NaN   \n",
       "4802   4802                    Documentary   \n",
       "\n",
       "                                               keywords original_language  \\\n",
       "4799                                                NaN                en   \n",
       "4800  date love at first sight narration investigati...                en   \n",
       "4801                                                NaN                en   \n",
       "4802               obsession camcorder crush dream girl                en   \n",
       "\n",
       "                 original_title  \\\n",
       "4799                  Newlyweds   \n",
       "4800  Signed, Sealed, Delivered   \n",
       "4801           Shanghai Calling   \n",
       "4802          My Date with Drew   \n",
       "\n",
       "                                               overview  popularity  \\\n",
       "4799  A newlywed couple's honeymoon is upended by th...    0.642552   \n",
       "4800  \"Signed, Sealed, Delivered\" introduces a dedic...    1.444476   \n",
       "4801  When ambitious New York attorney Sam is sent t...    0.857008   \n",
       "4802  Ever since the second grade when he first saw ...    1.929883   \n",
       "\n",
       "                                   production_companies  \\\n",
       "4799                                                 []   \n",
       "4800  [{\"name\": \"Front Street Pictures\", \"id\": 3958}...   \n",
       "4801                                                 []   \n",
       "4802  [{\"name\": \"rusty bear entertainment\", \"id\": 87...   \n",
       "\n",
       "                                   production_countries release_date  revenue  \\\n",
       "4799                                                 []   2011-12-26        0   \n",
       "4800  [{\"iso_3166_1\": \"US\", \"name\": \"United States o...   2013-10-13        0   \n",
       "4801  [{\"iso_3166_1\": \"US\", \"name\": \"United States o...   2012-05-03        0   \n",
       "4802  [{\"iso_3166_1\": \"US\", \"name\": \"United States o...   2005-08-05        0   \n",
       "\n",
       "      runtime                          spoken_languages  \\\n",
       "4799     85.0                                        []   \n",
       "4800    120.0  [{\"iso_639_1\": \"en\", \"name\": \"English\"}]   \n",
       "4801     98.0  [{\"iso_639_1\": \"en\", \"name\": \"English\"}]   \n",
       "4802     90.0  [{\"iso_639_1\": \"en\", \"name\": \"English\"}]   \n",
       "\n",
       "                                                tagline  \\\n",
       "4799  A newlywed couple's honeymoon is upended by th...   \n",
       "4800                                                NaN   \n",
       "4801                           A New Yorker in Shanghai   \n",
       "4802                                                NaN   \n",
       "\n",
       "                          title  vote_average  vote_count  \\\n",
       "4799                  Newlyweds           5.9           5   \n",
       "4800  Signed, Sealed, Delivered           7.0           6   \n",
       "4801           Shanghai Calling           5.7           7   \n",
       "4802          My Date with Drew           6.3          16   \n",
       "\n",
       "                                                   cast  \\\n",
       "4799  Edward Burns Kerry Bish\\u00e9 Marsha Dietlein ...   \n",
       "4800  Eric Mabius Kristin Booth Crystal Lowe Geoff G...   \n",
       "4801  Daniel Henney Eliza Coupe Bill Paxton Alan Ruc...   \n",
       "4802  Drew Barrymore Brian Herzlinger Corey Feldman ...   \n",
       "\n",
       "                                                   crew          director  \n",
       "4799  [{'name': 'Edward Burns', 'gender': 2, 'depart...      Edward Burns  \n",
       "4800  [{'name': 'Carla Hetland', 'gender': 0, 'depar...       Scott Smith  \n",
       "4801  [{'name': 'Daniel Hsia', 'gender': 2, 'departm...       Daniel Hsia  \n",
       "4802  [{'name': 'Clark Peterson', 'gender': 2, 'depa...  Brian Herzlinger  "
      ]
     },
     "execution_count": 12,
     "metadata": {},
     "output_type": "execute_result"
    }
   ],
   "source": [
    "df.tail(4)"
   ]
  },
  {
   "cell_type": "code",
   "execution_count": 13,
   "id": "1beb8ae7-7b86-40e1-9ae2-2333098d0d1f",
   "metadata": {},
   "outputs": [
    {
     "data": {
      "text/plain": [
       "0       [Action, Adventure, Fantasy, Science, Fiction]\n",
       "1                         [Adventure, Fantasy, Action]\n",
       "2                           [Action, Adventure, Crime]\n",
       "3                     [Action, Crime, Drama, Thriller]\n",
       "4                [Action, Adventure, Science, Fiction]\n",
       "                             ...                      \n",
       "4798                         [Action, Crime, Thriller]\n",
       "4799                                 [Comedy, Romance]\n",
       "4800               [Comedy, Drama, Romance, TV, Movie]\n",
       "4801                                               NaN\n",
       "4802                                     [Documentary]\n",
       "Name: genres, Length: 4803, dtype: object"
      ]
     },
     "execution_count": 13,
     "metadata": {},
     "output_type": "execute_result"
    }
   ],
   "source": [
    "df['genres'].str.split(' ')"
   ]
  },
  {
   "cell_type": "code",
   "execution_count": 14,
   "id": "89c271e2-783e-4d8d-a7e4-b74ffb8e02c8",
   "metadata": {},
   "outputs": [],
   "source": [
    "# Application de la méthode str.get_dummies() pour créer des colonnes binaires pour chaque genre\n",
    "#Genre = df['genres'].str.get_dummies(sep=' ')\n",
    "\n",
    "# Concaténation du DataFrame original avec les colonnes binaires\n",
    "#df = pd.concat([df, Genre], axis=1)\n"
   ]
  },
  {
   "cell_type": "code",
   "execution_count": 15,
   "id": "efd5c8ac-d147-4451-98df-376c99271ad4",
   "metadata": {},
   "outputs": [
    {
     "data": {
      "text/plain": [
       "Index(['index', 'genres', 'keywords', 'original_language', 'original_title',\n",
       "       'overview', 'popularity', 'production_companies',\n",
       "       'production_countries', 'release_date', 'revenue', 'runtime',\n",
       "       'spoken_languages', 'tagline', 'title', 'vote_average', 'vote_count',\n",
       "       'cast', 'crew', 'director'],\n",
       "      dtype='object')"
      ]
     },
     "execution_count": 15,
     "metadata": {},
     "output_type": "execute_result"
    }
   ],
   "source": [
    "df.columns"
   ]
  },
  {
   "cell_type": "code",
   "execution_count": 16,
   "id": "68e40c7a-15e4-45f6-a152-960ddbcd91b7",
   "metadata": {},
   "outputs": [],
   "source": [
    "#df.drop(columns=['genres'],inplace=True)"
   ]
  },
  {
   "cell_type": "code",
   "execution_count": 17,
   "id": "ab6ad3fb-faa3-4d69-aa18-e6fbccbb353a",
   "metadata": {},
   "outputs": [
    {
     "data": {
      "text/html": [
       "<div>\n",
       "<style scoped>\n",
       "    .dataframe tbody tr th:only-of-type {\n",
       "        vertical-align: middle;\n",
       "    }\n",
       "\n",
       "    .dataframe tbody tr th {\n",
       "        vertical-align: top;\n",
       "    }\n",
       "\n",
       "    .dataframe thead th {\n",
       "        text-align: right;\n",
       "    }\n",
       "</style>\n",
       "<table border=\"1\" class=\"dataframe\">\n",
       "  <thead>\n",
       "    <tr style=\"text-align: right;\">\n",
       "      <th></th>\n",
       "      <th>index</th>\n",
       "      <th>genres</th>\n",
       "      <th>keywords</th>\n",
       "      <th>original_language</th>\n",
       "      <th>original_title</th>\n",
       "      <th>overview</th>\n",
       "      <th>popularity</th>\n",
       "      <th>production_companies</th>\n",
       "      <th>production_countries</th>\n",
       "      <th>release_date</th>\n",
       "      <th>revenue</th>\n",
       "      <th>runtime</th>\n",
       "      <th>spoken_languages</th>\n",
       "      <th>tagline</th>\n",
       "      <th>title</th>\n",
       "      <th>vote_average</th>\n",
       "      <th>vote_count</th>\n",
       "      <th>cast</th>\n",
       "    </tr>\n",
       "  </thead>\n",
       "  <tbody>\n",
       "    <tr>\n",
       "      <th>0</th>\n",
       "      <td>0</td>\n",
       "      <td>Action Adventure Fantasy Science Fiction</td>\n",
       "      <td>culture clash future space war space colony so...</td>\n",
       "      <td>en</td>\n",
       "      <td>Avatar</td>\n",
       "      <td>In the 22nd century, a paraplegic Marine is di...</td>\n",
       "      <td>150.437577</td>\n",
       "      <td>[{\"name\": \"Ingenious Film Partners\", \"id\": 289...</td>\n",
       "      <td>[{\"iso_3166_1\": \"US\", \"name\": \"United States o...</td>\n",
       "      <td>2009-12-10</td>\n",
       "      <td>2787965087</td>\n",
       "      <td>162.0</td>\n",
       "      <td>[{\"iso_639_1\": \"en\", \"name\": \"English\"}, {\"iso...</td>\n",
       "      <td>Enter the World of Pandora.</td>\n",
       "      <td>Avatar</td>\n",
       "      <td>7.2</td>\n",
       "      <td>11800</td>\n",
       "      <td>Sam Worthington Zoe Saldana Sigourney Weaver S...</td>\n",
       "    </tr>\n",
       "    <tr>\n",
       "      <th>1</th>\n",
       "      <td>1</td>\n",
       "      <td>Adventure Fantasy Action</td>\n",
       "      <td>ocean drug abuse exotic island east india trad...</td>\n",
       "      <td>en</td>\n",
       "      <td>Pirates of the Caribbean: At World's End</td>\n",
       "      <td>Captain Barbossa, long believed to be dead, ha...</td>\n",
       "      <td>139.082615</td>\n",
       "      <td>[{\"name\": \"Walt Disney Pictures\", \"id\": 2}, {\"...</td>\n",
       "      <td>[{\"iso_3166_1\": \"US\", \"name\": \"United States o...</td>\n",
       "      <td>2007-05-19</td>\n",
       "      <td>961000000</td>\n",
       "      <td>169.0</td>\n",
       "      <td>[{\"iso_639_1\": \"en\", \"name\": \"English\"}]</td>\n",
       "      <td>At the end of the world, the adventure begins.</td>\n",
       "      <td>Pirates of the Caribbean: At World's End</td>\n",
       "      <td>6.9</td>\n",
       "      <td>4500</td>\n",
       "      <td>Johnny Depp Orlando Bloom Keira Knightley Stel...</td>\n",
       "    </tr>\n",
       "    <tr>\n",
       "      <th>2</th>\n",
       "      <td>2</td>\n",
       "      <td>Action Adventure Crime</td>\n",
       "      <td>spy based on novel secret agent sequel mi6</td>\n",
       "      <td>en</td>\n",
       "      <td>Spectre</td>\n",
       "      <td>A cryptic message from Bond’s past sends him o...</td>\n",
       "      <td>107.376788</td>\n",
       "      <td>[{\"name\": \"Columbia Pictures\", \"id\": 5}, {\"nam...</td>\n",
       "      <td>[{\"iso_3166_1\": \"GB\", \"name\": \"United Kingdom\"...</td>\n",
       "      <td>2015-10-26</td>\n",
       "      <td>880674609</td>\n",
       "      <td>148.0</td>\n",
       "      <td>[{\"iso_639_1\": \"fr\", \"name\": \"Fran\\u00e7ais\"},...</td>\n",
       "      <td>A Plan No One Escapes</td>\n",
       "      <td>Spectre</td>\n",
       "      <td>6.3</td>\n",
       "      <td>4466</td>\n",
       "      <td>Daniel Craig Christoph Waltz L\\u00e9a Seydoux ...</td>\n",
       "    </tr>\n",
       "    <tr>\n",
       "      <th>3</th>\n",
       "      <td>3</td>\n",
       "      <td>Action Crime Drama Thriller</td>\n",
       "      <td>dc comics crime fighter terrorist secret ident...</td>\n",
       "      <td>en</td>\n",
       "      <td>The Dark Knight Rises</td>\n",
       "      <td>Following the death of District Attorney Harve...</td>\n",
       "      <td>112.312950</td>\n",
       "      <td>[{\"name\": \"Legendary Pictures\", \"id\": 923}, {\"...</td>\n",
       "      <td>[{\"iso_3166_1\": \"US\", \"name\": \"United States o...</td>\n",
       "      <td>2012-07-16</td>\n",
       "      <td>1084939099</td>\n",
       "      <td>165.0</td>\n",
       "      <td>[{\"iso_639_1\": \"en\", \"name\": \"English\"}]</td>\n",
       "      <td>The Legend Ends</td>\n",
       "      <td>The Dark Knight Rises</td>\n",
       "      <td>7.6</td>\n",
       "      <td>9106</td>\n",
       "      <td>Christian Bale Michael Caine Gary Oldman Anne ...</td>\n",
       "    </tr>\n",
       "  </tbody>\n",
       "</table>\n",
       "</div>"
      ],
      "text/plain": [
       "   index                                    genres  \\\n",
       "0      0  Action Adventure Fantasy Science Fiction   \n",
       "1      1                  Adventure Fantasy Action   \n",
       "2      2                    Action Adventure Crime   \n",
       "3      3               Action Crime Drama Thriller   \n",
       "\n",
       "                                            keywords original_language  \\\n",
       "0  culture clash future space war space colony so...                en   \n",
       "1  ocean drug abuse exotic island east india trad...                en   \n",
       "2         spy based on novel secret agent sequel mi6                en   \n",
       "3  dc comics crime fighter terrorist secret ident...                en   \n",
       "\n",
       "                             original_title  \\\n",
       "0                                    Avatar   \n",
       "1  Pirates of the Caribbean: At World's End   \n",
       "2                                   Spectre   \n",
       "3                     The Dark Knight Rises   \n",
       "\n",
       "                                            overview  popularity  \\\n",
       "0  In the 22nd century, a paraplegic Marine is di...  150.437577   \n",
       "1  Captain Barbossa, long believed to be dead, ha...  139.082615   \n",
       "2  A cryptic message from Bond’s past sends him o...  107.376788   \n",
       "3  Following the death of District Attorney Harve...  112.312950   \n",
       "\n",
       "                                production_companies  \\\n",
       "0  [{\"name\": \"Ingenious Film Partners\", \"id\": 289...   \n",
       "1  [{\"name\": \"Walt Disney Pictures\", \"id\": 2}, {\"...   \n",
       "2  [{\"name\": \"Columbia Pictures\", \"id\": 5}, {\"nam...   \n",
       "3  [{\"name\": \"Legendary Pictures\", \"id\": 923}, {\"...   \n",
       "\n",
       "                                production_countries release_date     revenue  \\\n",
       "0  [{\"iso_3166_1\": \"US\", \"name\": \"United States o...   2009-12-10  2787965087   \n",
       "1  [{\"iso_3166_1\": \"US\", \"name\": \"United States o...   2007-05-19   961000000   \n",
       "2  [{\"iso_3166_1\": \"GB\", \"name\": \"United Kingdom\"...   2015-10-26   880674609   \n",
       "3  [{\"iso_3166_1\": \"US\", \"name\": \"United States o...   2012-07-16  1084939099   \n",
       "\n",
       "   runtime                                   spoken_languages  \\\n",
       "0    162.0  [{\"iso_639_1\": \"en\", \"name\": \"English\"}, {\"iso...   \n",
       "1    169.0           [{\"iso_639_1\": \"en\", \"name\": \"English\"}]   \n",
       "2    148.0  [{\"iso_639_1\": \"fr\", \"name\": \"Fran\\u00e7ais\"},...   \n",
       "3    165.0           [{\"iso_639_1\": \"en\", \"name\": \"English\"}]   \n",
       "\n",
       "                                          tagline  \\\n",
       "0                     Enter the World of Pandora.   \n",
       "1  At the end of the world, the adventure begins.   \n",
       "2                           A Plan No One Escapes   \n",
       "3                                 The Legend Ends   \n",
       "\n",
       "                                      title  vote_average  vote_count  \\\n",
       "0                                    Avatar           7.2       11800   \n",
       "1  Pirates of the Caribbean: At World's End           6.9        4500   \n",
       "2                                   Spectre           6.3        4466   \n",
       "3                     The Dark Knight Rises           7.6        9106   \n",
       "\n",
       "                                                cast  \n",
       "0  Sam Worthington Zoe Saldana Sigourney Weaver S...  \n",
       "1  Johnny Depp Orlando Bloom Keira Knightley Stel...  \n",
       "2  Daniel Craig Christoph Waltz L\\u00e9a Seydoux ...  \n",
       "3  Christian Bale Michael Caine Gary Oldman Anne ...  "
      ]
     },
     "execution_count": 17,
     "metadata": {},
     "output_type": "execute_result"
    }
   ],
   "source": [
    "df.iloc[:4,:18]"
   ]
  },
  {
   "cell_type": "code",
   "execution_count": 18,
   "id": "42f0990a-6991-4aa4-97d3-ca89bdffc7c2",
   "metadata": {},
   "outputs": [
    {
     "data": {
      "text/plain": [
       "'[{\"name\": \"Ingenious Film Partners\", \"id\": 289}, {\"name\": \"Twentieth Century Fox Film Corporation\", \"id\": 306}, {\"name\": \"Dune Entertainment\", \"id\": 444}, {\"name\": \"Lightstorm Entertainment\", \"id\": 574}]'"
      ]
     },
     "execution_count": 18,
     "metadata": {},
     "output_type": "execute_result"
    }
   ],
   "source": [
    "df['production_companies'][0]"
   ]
  },
  {
   "cell_type": "code",
   "execution_count": 19,
   "id": "fea71da9-6d18-4421-a0a4-e6bef94f0854",
   "metadata": {},
   "outputs": [
    {
     "name": "stderr",
     "output_type": "stream",
     "text": [
      "C:\\Users\\Xps\\AppData\\Local\\Temp\\ipykernel_20408\\453267029.py:10: SettingWithCopyWarning: \n",
      "A value is trying to be set on a copy of a slice from a DataFrame\n",
      "\n",
      "See the caveats in the documentation: https://pandas.pydata.org/pandas-docs/stable/user_guide/indexing.html#returning-a-view-versus-a-copy\n",
      "  df['production_companies'][i]=liste_ids\n"
     ]
    }
   ],
   "source": [
    "## production_companies\n",
    "\n",
    "for i in range(len(df)):\n",
    "    liste_dict = json.loads(df['production_companies'][i])\n",
    "    liste_ids = ' '\n",
    "\n",
    "    for d in liste_dict:\n",
    "        liste_ids=liste_ids+ d['name'] + ', '\n",
    "\n",
    "    df['production_companies'][i]=liste_ids"
   ]
  },
  {
   "cell_type": "code",
   "execution_count": 20,
   "id": "8f965a66-24f7-476f-b67d-3323ca4350ba",
   "metadata": {},
   "outputs": [
    {
     "data": {
      "text/plain": [
       "0        Ingenious Film Partners, Twentieth Century Fo...\n",
       "1        Walt Disney Pictures, Jerry Bruckheimer Films...\n",
       "2                        Columbia Pictures, Danjaq, B24, \n",
       "3        Legendary Pictures, Warner Bros., DC Entertai...\n",
       "4                                  Walt Disney Pictures, \n",
       "                              ...                        \n",
       "4798                                  Columbia Pictures, \n",
       "4799                                                     \n",
       "4800     Front Street Pictures, Muse Entertainment Ent...\n",
       "4801                                                     \n",
       "4802         rusty bear entertainment, lucky crow films, \n",
       "Name: production_companies, Length: 4803, dtype: object"
      ]
     },
     "execution_count": 20,
     "metadata": {},
     "output_type": "execute_result"
    }
   ],
   "source": [
    "df['production_companies']"
   ]
  },
  {
   "cell_type": "code",
   "execution_count": 21,
   "id": "2749faea-ea83-4191-80dd-66412a6c950a",
   "metadata": {},
   "outputs": [
    {
     "name": "stderr",
     "output_type": "stream",
     "text": [
      "C:\\Users\\Xps\\AppData\\Local\\Temp\\ipykernel_20408\\2730624988.py:10: SettingWithCopyWarning: \n",
      "A value is trying to be set on a copy of a slice from a DataFrame\n",
      "\n",
      "See the caveats in the documentation: https://pandas.pydata.org/pandas-docs/stable/user_guide/indexing.html#returning-a-view-versus-a-copy\n",
      "  df['production_countries'][i]=liste_ids\n"
     ]
    }
   ],
   "source": [
    "## production_countries\n",
    "\n",
    "for i in range(len(df)):\n",
    "    liste_dict = json.loads(df['production_countries'][i])\n",
    "    liste_ids = ' '\n",
    "\n",
    "    for d in liste_dict:\n",
    "        liste_ids=liste_ids+ d['name'] + ', '\n",
    "\n",
    "    df['production_countries'][i]=liste_ids"
   ]
  },
  {
   "cell_type": "code",
   "execution_count": 22,
   "id": "6d934be5-b939-4c5f-97e8-0997c7c37e39",
   "metadata": {},
   "outputs": [
    {
     "data": {
      "text/plain": [
       "0        United States of America, United Kingdom, \n",
       "1                        United States of America, \n",
       "2        United Kingdom, United States of America, \n",
       "3                        United States of America, \n",
       "4                        United States of America, \n",
       "                           ...                     \n",
       "4798             Mexico, United States of America, \n",
       "4799                                               \n",
       "4800                     United States of America, \n",
       "4801              United States of America, China, \n",
       "4802                     United States of America, \n",
       "Name: production_countries, Length: 4803, dtype: object"
      ]
     },
     "execution_count": 22,
     "metadata": {},
     "output_type": "execute_result"
    }
   ],
   "source": [
    "df['production_countries']"
   ]
  },
  {
   "cell_type": "code",
   "execution_count": 23,
   "id": "d0b375d0-795b-43d4-a791-33aad353f40e",
   "metadata": {},
   "outputs": [
    {
     "name": "stderr",
     "output_type": "stream",
     "text": [
      "C:\\Users\\Xps\\AppData\\Local\\Temp\\ipykernel_20408\\620485191.py:10: SettingWithCopyWarning: \n",
      "A value is trying to be set on a copy of a slice from a DataFrame\n",
      "\n",
      "See the caveats in the documentation: https://pandas.pydata.org/pandas-docs/stable/user_guide/indexing.html#returning-a-view-versus-a-copy\n",
      "  df['spoken_languages'][i]=liste_ids\n"
     ]
    }
   ],
   "source": [
    "## spoken_languages\n",
    "\n",
    "for i in range(len(df)):\n",
    "    liste_dict = json.loads(df['spoken_languages'][i])\n",
    "    liste_ids = ' '\n",
    "\n",
    "    for d in liste_dict:\n",
    "        liste_ids=liste_ids+ d['name'] + ', '\n",
    "\n",
    "    df['spoken_languages'][i]=liste_ids"
   ]
  },
  {
   "cell_type": "code",
   "execution_count": 24,
   "id": "e26d3e0f-a124-4ec4-a82c-4995fd3f052d",
   "metadata": {},
   "outputs": [
    {
     "data": {
      "text/plain": [
       "0                                     English, Español, \n",
       "1                                              English, \n",
       "2        Français, English, Español, Italiano, Deutsch, \n",
       "3                                              English, \n",
       "4                                              English, \n",
       "                              ...                       \n",
       "4798                                           Español, \n",
       "4799                                                    \n",
       "4800                                           English, \n",
       "4801                                           English, \n",
       "4802                                           English, \n",
       "Name: spoken_languages, Length: 4803, dtype: object"
      ]
     },
     "execution_count": 24,
     "metadata": {},
     "output_type": "execute_result"
    }
   ],
   "source": [
    "df['spoken_languages']"
   ]
  },
  {
   "cell_type": "code",
   "execution_count": 25,
   "id": "d08541f8-3ced-4131-867a-46d464b04af1",
   "metadata": {},
   "outputs": [
    {
     "data": {
      "text/html": [
       "<div>\n",
       "<style scoped>\n",
       "    .dataframe tbody tr th:only-of-type {\n",
       "        vertical-align: middle;\n",
       "    }\n",
       "\n",
       "    .dataframe tbody tr th {\n",
       "        vertical-align: top;\n",
       "    }\n",
       "\n",
       "    .dataframe thead th {\n",
       "        text-align: right;\n",
       "    }\n",
       "</style>\n",
       "<table border=\"1\" class=\"dataframe\">\n",
       "  <thead>\n",
       "    <tr style=\"text-align: right;\">\n",
       "      <th></th>\n",
       "      <th>index</th>\n",
       "      <th>genres</th>\n",
       "      <th>keywords</th>\n",
       "      <th>original_language</th>\n",
       "      <th>original_title</th>\n",
       "      <th>overview</th>\n",
       "      <th>popularity</th>\n",
       "      <th>production_companies</th>\n",
       "      <th>production_countries</th>\n",
       "      <th>release_date</th>\n",
       "      <th>revenue</th>\n",
       "      <th>runtime</th>\n",
       "      <th>spoken_languages</th>\n",
       "      <th>tagline</th>\n",
       "      <th>title</th>\n",
       "      <th>vote_average</th>\n",
       "      <th>vote_count</th>\n",
       "    </tr>\n",
       "  </thead>\n",
       "  <tbody>\n",
       "    <tr>\n",
       "      <th>0</th>\n",
       "      <td>0</td>\n",
       "      <td>Action Adventure Fantasy Science Fiction</td>\n",
       "      <td>culture clash future space war space colony so...</td>\n",
       "      <td>en</td>\n",
       "      <td>Avatar</td>\n",
       "      <td>In the 22nd century, a paraplegic Marine is di...</td>\n",
       "      <td>150.437577</td>\n",
       "      <td>Ingenious Film Partners, Twentieth Century Fo...</td>\n",
       "      <td>United States of America, United Kingdom,</td>\n",
       "      <td>2009-12-10</td>\n",
       "      <td>2787965087</td>\n",
       "      <td>162.0</td>\n",
       "      <td>English, Español,</td>\n",
       "      <td>Enter the World of Pandora.</td>\n",
       "      <td>Avatar</td>\n",
       "      <td>7.2</td>\n",
       "      <td>11800</td>\n",
       "    </tr>\n",
       "    <tr>\n",
       "      <th>1</th>\n",
       "      <td>1</td>\n",
       "      <td>Adventure Fantasy Action</td>\n",
       "      <td>ocean drug abuse exotic island east india trad...</td>\n",
       "      <td>en</td>\n",
       "      <td>Pirates of the Caribbean: At World's End</td>\n",
       "      <td>Captain Barbossa, long believed to be dead, ha...</td>\n",
       "      <td>139.082615</td>\n",
       "      <td>Walt Disney Pictures, Jerry Bruckheimer Films...</td>\n",
       "      <td>United States of America,</td>\n",
       "      <td>2007-05-19</td>\n",
       "      <td>961000000</td>\n",
       "      <td>169.0</td>\n",
       "      <td>English,</td>\n",
       "      <td>At the end of the world, the adventure begins.</td>\n",
       "      <td>Pirates of the Caribbean: At World's End</td>\n",
       "      <td>6.9</td>\n",
       "      <td>4500</td>\n",
       "    </tr>\n",
       "    <tr>\n",
       "      <th>2</th>\n",
       "      <td>2</td>\n",
       "      <td>Action Adventure Crime</td>\n",
       "      <td>spy based on novel secret agent sequel mi6</td>\n",
       "      <td>en</td>\n",
       "      <td>Spectre</td>\n",
       "      <td>A cryptic message from Bond’s past sends him o...</td>\n",
       "      <td>107.376788</td>\n",
       "      <td>Columbia Pictures, Danjaq, B24,</td>\n",
       "      <td>United Kingdom, United States of America,</td>\n",
       "      <td>2015-10-26</td>\n",
       "      <td>880674609</td>\n",
       "      <td>148.0</td>\n",
       "      <td>Français, English, Español, Italiano, Deutsch,</td>\n",
       "      <td>A Plan No One Escapes</td>\n",
       "      <td>Spectre</td>\n",
       "      <td>6.3</td>\n",
       "      <td>4466</td>\n",
       "    </tr>\n",
       "  </tbody>\n",
       "</table>\n",
       "</div>"
      ],
      "text/plain": [
       "   index                                    genres  \\\n",
       "0      0  Action Adventure Fantasy Science Fiction   \n",
       "1      1                  Adventure Fantasy Action   \n",
       "2      2                    Action Adventure Crime   \n",
       "\n",
       "                                            keywords original_language  \\\n",
       "0  culture clash future space war space colony so...                en   \n",
       "1  ocean drug abuse exotic island east india trad...                en   \n",
       "2         spy based on novel secret agent sequel mi6                en   \n",
       "\n",
       "                             original_title  \\\n",
       "0                                    Avatar   \n",
       "1  Pirates of the Caribbean: At World's End   \n",
       "2                                   Spectre   \n",
       "\n",
       "                                            overview  popularity  \\\n",
       "0  In the 22nd century, a paraplegic Marine is di...  150.437577   \n",
       "1  Captain Barbossa, long believed to be dead, ha...  139.082615   \n",
       "2  A cryptic message from Bond’s past sends him o...  107.376788   \n",
       "\n",
       "                                production_companies  \\\n",
       "0   Ingenious Film Partners, Twentieth Century Fo...   \n",
       "1   Walt Disney Pictures, Jerry Bruckheimer Films...   \n",
       "2                   Columbia Pictures, Danjaq, B24,    \n",
       "\n",
       "                          production_countries release_date     revenue  \\\n",
       "0   United States of America, United Kingdom,    2009-12-10  2787965087   \n",
       "1                   United States of America,    2007-05-19   961000000   \n",
       "2   United Kingdom, United States of America,    2015-10-26   880674609   \n",
       "\n",
       "   runtime                                  spoken_languages  \\\n",
       "0    162.0                                English, Español,    \n",
       "1    169.0                                         English,    \n",
       "2    148.0   Français, English, Español, Italiano, Deutsch,    \n",
       "\n",
       "                                          tagline  \\\n",
       "0                     Enter the World of Pandora.   \n",
       "1  At the end of the world, the adventure begins.   \n",
       "2                           A Plan No One Escapes   \n",
       "\n",
       "                                      title  vote_average  vote_count  \n",
       "0                                    Avatar           7.2       11800  \n",
       "1  Pirates of the Caribbean: At World's End           6.9        4500  \n",
       "2                                   Spectre           6.3        4466  "
      ]
     },
     "execution_count": 25,
     "metadata": {},
     "output_type": "execute_result"
    }
   ],
   "source": [
    "df.iloc[:3,:17]"
   ]
  },
  {
   "cell_type": "code",
   "execution_count": null,
   "id": "48c29e0f-da87-4eb1-80c2-c3e16039240f",
   "metadata": {},
   "outputs": [],
   "source": []
  },
  {
   "cell_type": "code",
   "execution_count": null,
   "id": "7aa58264-3824-421f-89ba-45078723a9b2",
   "metadata": {},
   "outputs": [],
   "source": []
  },
  {
   "cell_type": "code",
   "execution_count": 26,
   "id": "55a75515-d1d6-42de-98dd-455fc807d8db",
   "metadata": {},
   "outputs": [],
   "source": [
    "df['year'] = pd.to_datetime(df['release_date'], errors='coerce').apply(lambda x: str(x).split('-')[0] if x != np.nan else np.nan)"
   ]
  },
  {
   "cell_type": "code",
   "execution_count": 30,
   "id": "76be7a21-d278-4538-aeed-d6d07f22893b",
   "metadata": {},
   "outputs": [],
   "source": [
    "selected_features = ['year','genres','keywords','overview','production_companies','production_countries','spoken_languages','tagline','cast','director']\n",
    "\n",
    "for feature in selected_features:\n",
    "    df[feature] = df[feature].fillna('')"
   ]
  },
  {
   "cell_type": "code",
   "execution_count": 31,
   "id": "ee588dcf-cdfe-4e39-ad36-00ff847d464a",
   "metadata": {},
   "outputs": [],
   "source": [
    "df['descreption']=df['year']+', '+df['genres']+', '+df['keywords']+', '+df['overview']+', '+df['production_companies']+', '+df['production_countries']+', '+df['spoken_languages']+', '+df['tagline']+', '+df['cast']+', '+df['director']"
   ]
  },
  {
   "cell_type": "code",
   "execution_count": 32,
   "id": "4daa2b88-3581-4ef1-907c-48a6ec5dc264",
   "metadata": {},
   "outputs": [
    {
     "data": {
      "text/plain": [
       "0       2009, Action Adventure Fantasy Science Fiction...\n",
       "1       2007, Adventure Fantasy Action, ocean drug abu...\n",
       "2       2015, Action Adventure Crime, spy based on nov...\n",
       "3       2012, Action Crime Drama Thriller, dc comics c...\n",
       "4       2012, Action Adventure Science Fiction, based ...\n",
       "                              ...                        \n",
       "4798    1992, Action Crime Thriller, united states\\u20...\n",
       "4799    2011, Comedy Romance, , A newlywed couple's ho...\n",
       "4800    2013, Comedy Drama Romance TV Movie, date love...\n",
       "4801    2012, , , When ambitious New York attorney Sam...\n",
       "4802    2005, Documentary, obsession camcorder crush d...\n",
       "Name: descreption, Length: 4803, dtype: object"
      ]
     },
     "execution_count": 32,
     "metadata": {},
     "output_type": "execute_result"
    }
   ],
   "source": [
    "df['descreption']"
   ]
  },
  {
   "cell_type": "code",
   "execution_count": 33,
   "id": "0cc4131c-8f66-4419-bcc2-fe762b464dd7",
   "metadata": {},
   "outputs": [
    {
     "name": "stdout",
     "output_type": "stream",
     "text": [
      "  (0, 4659)\t0.1226419176534273\n",
      "  (0, 15385)\t0.07835509789977688\n",
      "  (0, 25092)\t0.13950674133788254\n",
      "  (0, 19292)\t0.11435638599907708\n",
      "  (0, 16895)\t0.1595077705274063\n",
      "  (0, 28035)\t0.10770606190008504\n",
      "  (0, 32103)\t0.14022452625453596\n",
      "  (0, 26880)\t0.147927799719674\n",
      "  (0, 25574)\t0.15639299466941312\n",
      "  (0, 33128)\t0.14022452625453596\n",
      "  (0, 32673)\t0.1698140360655723\n",
      "  (0, 25618)\t0.10282875124471316\n",
      "  (0, 32648)\t0.06724446418601962\n",
      "  (0, 9795)\t0.13501944202048807\n",
      "  (0, 9984)\t0.08429081539517151\n",
      "  (0, 9736)\t0.024913322247510958\n",
      "  (0, 16366)\t0.06948683939496114\n",
      "  (0, 1299)\t0.027762320419720297\n",
      "  (0, 21088)\t0.048343219647145816\n",
      "  (0, 27941)\t0.02782112097821018\n",
      "  (0, 30999)\t0.05267701927396086\n",
      "  (0, 17405)\t0.17927198378236986\n",
      "  (0, 9806)\t0.10842715117900394\n",
      "  (0, 9073)\t0.11584579623836229\n",
      "  (0, 6712)\t0.08017086491705225\n",
      "  :\t:\n",
      "  (4802, 13608)\t0.07867389170108958\n",
      "  (4802, 13392)\t0.10311307480916906\n",
      "  (4802, 32261)\t0.03531236070389809\n",
      "  (4802, 13809)\t0.028298003944680385\n",
      "  (4802, 20569)\t0.0398619907156153\n",
      "  (4802, 16976)\t0.07609451357421085\n",
      "  (4802, 32861)\t0.05636060322831377\n",
      "  (4802, 4508)\t0.03699767137754048\n",
      "  (4802, 11285)\t0.03223399948723983\n",
      "  (4802, 11615)\t0.03711246764292322\n",
      "  (4802, 26130)\t0.07951724791559057\n",
      "  (4802, 10954)\t0.03382182166343927\n",
      "  (4802, 13280)\t0.041602683817816594\n",
      "  (4802, 21235)\t0.04163681304856407\n",
      "  (4802, 9736)\t0.016749431381522732\n",
      "  (4802, 1299)\t0.018664836276840197\n",
      "  (4802, 21088)\t0.016250772020633422\n",
      "  (4802, 27941)\t0.018704368375764495\n",
      "  (4802, 30999)\t0.017707596581192774\n",
      "  (4802, 9806)\t0.03644823260671628\n",
      "  (4802, 1391)\t0.019934908923251487\n",
      "  (4802, 21232)\t0.03070694129868521\n",
      "  (4802, 29714)\t0.038792521691448055\n",
      "  (4802, 29404)\t0.03457953223923799\n",
      "  (4802, 14632)\t0.022806993149960545\n"
     ]
    }
   ],
   "source": [
    "# converting the text data to feature vectors\n",
    "\n",
    "vectorizer = TfidfVectorizer()\n",
    "feature_vectors = vectorizer.fit_transform(df['descreption'])\n",
    "print(feature_vectors)"
   ]
  },
  {
   "cell_type": "code",
   "execution_count": 34,
   "id": "0147c922-ec94-4a43-9e3b-d492f563a5c5",
   "metadata": {},
   "outputs": [
    {
     "data": {
      "text/plain": [
       "array([[1.        , 0.05023907, 0.04625616, ..., 0.03412179, 0.03258527,\n",
       "        0.01368053],\n",
       "       [0.05023907, 1.        , 0.04564362, ..., 0.05141091, 0.03301457,\n",
       "        0.02846826],\n",
       "       [0.04625616, 0.04564362, 1.        , ..., 0.02996872, 0.04843745,\n",
       "        0.01552837],\n",
       "       ...,\n",
       "       [0.03412179, 0.05141091, 0.02996872, ..., 1.        , 0.04415534,\n",
       "        0.03824767],\n",
       "       [0.03258527, 0.03301457, 0.04843745, ..., 0.04415534, 1.        ,\n",
       "        0.03201614],\n",
       "       [0.01368053, 0.02846826, 0.01552837, ..., 0.03824767, 0.03201614,\n",
       "        1.        ]])"
      ]
     },
     "execution_count": 34,
     "metadata": {},
     "output_type": "execute_result"
    }
   ],
   "source": [
    "similarity = cosine_similarity(feature_vectors)\n",
    "similarity"
   ]
  },
  {
   "cell_type": "code",
   "execution_count": null,
   "id": "af6cb63d-484e-440c-9835-2b1fcb4c7f2b",
   "metadata": {},
   "outputs": [],
   "source": []
  },
  {
   "cell_type": "code",
   "execution_count": 35,
   "id": "d66c92a1-6193-4a0f-a84a-8228c1533a73",
   "metadata": {},
   "outputs": [
    {
     "name": "stdin",
     "output_type": "stream",
     "text": [
      " Enter your favourite movie name :  inception\n"
     ]
    }
   ],
   "source": [
    "# getting the movie name from the user\n",
    "\n",
    "movie_name = input(' Enter your favourite movie name : ')\n",
    "# creating a list with all the movie names given in the dataset\n",
    "\n",
    "list_of_all_titles = df['original_title'].tolist()\n",
    "#print(list_of_all_titles)"
   ]
  },
  {
   "cell_type": "code",
   "execution_count": 36,
   "id": "46d43a58-dc37-42f3-b7dd-be943b9c3f13",
   "metadata": {},
   "outputs": [
    {
     "name": "stdout",
     "output_type": "stream",
     "text": [
      "['Inception', 'Minions', 'Lincoln']\n"
     ]
    }
   ],
   "source": [
    "\n",
    "find_close_match = difflib.get_close_matches(movie_name, list_of_all_titles)\n",
    "print(find_close_match)"
   ]
  },
  {
   "cell_type": "code",
   "execution_count": 38,
   "id": "3687275a-f1db-4a56-9009-a8b8c952cc9b",
   "metadata": {},
   "outputs": [
    {
     "name": "stdin",
     "output_type": "stream",
     "text": [
      " Enter your favourite movie name :  inception\n"
     ]
    },
    {
     "name": "stdout",
     "output_type": "stream",
     "text": [
      "Movies suggested for you : \n",
      "\n",
      "1 . Inception\n",
      "2 . The Dark Knight\n",
      "3 . Mad Max: Fury Road\n",
      "4 . The Dark Knight Rises\n",
      "5 . The Town\n",
      "6 . Interstellar\n",
      "7 . Batman Begins\n",
      "8 . Looper\n",
      "9 . Kiss Kiss Bang Bang\n",
      "10 . The Prestige\n",
      "11 . Hesher\n",
      "12 . The Helix... Loaded\n",
      "13 . The Last Samurai\n",
      "14 . (500) Days of Summer\n",
      "15 . Tinker Tailor Soldier Spy\n",
      "16 . Body of Lies\n",
      "17 . Man of Steel\n",
      "18 . Don Jon\n",
      "19 . Letters from Iwo Jima\n",
      "20 . The Walk\n",
      "21 . G.I. Joe: The Rise of Cobra\n",
      "22 . Edge of Darkness\n",
      "23 . Hudson Hawk\n",
      "24 . The Exorcist\n",
      "25 . Sugar Town\n",
      "26 . The Revenant\n",
      "27 . Harry Potter and the Order of the Phoenix\n",
      "28 . Cypher\n",
      "29 . Highlander: Endgame\n"
     ]
    }
   ],
   "source": [
    "movie_name = input(' Enter your favourite movie name : ')\n",
    "\n",
    "list_of_all_titles = df['original_title'].tolist()\n",
    "\n",
    "find_close_match = difflib.get_close_matches(movie_name, list_of_all_titles)\n",
    "\n",
    "close_match = find_close_match[0]\n",
    "\n",
    "index_of_the_movie = df[df.original_title == close_match]['index'].values[0]\n",
    "\n",
    "similarity_score = list(enumerate(similarity[index_of_the_movie]))\n",
    "\n",
    "sorted_similar_movies = sorted(similarity_score, key = lambda x:x[1], reverse = True) \n",
    "\n",
    "print('Movies suggested for you : \\n')\n",
    "\n",
    "i = 1\n",
    "\n",
    "for movie in sorted_similar_movies:\n",
    "\tindex = movie[0]\n",
    "\ttitle_from_index = df[df.index==index]['original_title'].values[0]\n",
    "\tif (i<30):\n",
    "\t\tprint(i, '.',title_from_index)\n",
    "\t\ti+=1"
   ]
  },
  {
   "cell_type": "markdown",
   "id": "9f35f402-7546-43f2-9480-a6d077a43af2",
   "metadata": {},
   "source": [
    "#### Save the model"
   ]
  },
  {
   "cell_type": "code",
   "execution_count": 39,
   "id": "5e644977-dc80-49d1-905c-425c3c3c71af",
   "metadata": {},
   "outputs": [],
   "source": [
    "filename=\"trained_model.sav\"\n",
    "pickle.dump(vectorizer, open(filename,'wb'))"
   ]
  },
  {
   "cell_type": "code",
   "execution_count": 40,
   "id": "3b28efb7-7a96-4199-b595-46996d77f54a",
   "metadata": {},
   "outputs": [],
   "source": [
    "# loading the saved model\n",
    "loaded_model = pickle.load(open('trained_model.sav', 'rb'))"
   ]
  },
  {
   "cell_type": "code",
   "execution_count": 41,
   "id": "646122a6-5a07-4b11-896f-daf6edcd657e",
   "metadata": {},
   "outputs": [
    {
     "name": "stdout",
     "output_type": "stream",
     "text": [
      "Movies suggested for you : \n",
      "\n",
      "1 . Spider-Man\n",
      "2 . Spider-Man 3\n",
      "3 . Spider-Man 2\n",
      "4 . Arachnophobia\n",
      "5 . The Amazing Spider-Man 2\n",
      "6 . The Amazing Spider-Man\n",
      "7 . Charlotte's Web\n",
      "8 . Oz: The Great and Powerful\n",
      "9 . xXx: State of the Union\n",
      "10 . Shadow of the Vampire\n",
      "11 . 21 Jump Street\n",
      "12 . Brothers\n",
      "13 . The Good German\n",
      "14 . The Ice Storm\n",
      "15 . Gremlins 2: The New Batch\n",
      "16 . Seabiscuit\n",
      "17 . Midnight Special\n",
      "18 . The Covenant\n",
      "19 . The Notebook\n",
      "20 . X-Men\n",
      "21 . Speed 2: Cruise Control\n",
      "22 . Home for the Holidays\n",
      "23 . Get Over It\n",
      "24 . The New Guy\n",
      "25 . X-Men: Apocalypse\n",
      "26 . X2\n",
      "27 . Bachelorette\n",
      "28 . Guardians of the Galaxy\n",
      "29 . Ghost Rider: Spirit of Vengeance\n"
     ]
    }
   ],
   "source": [
    "input_data = \"Spiderman\"\n",
    "\n",
    "list_of_all_titles = df['original_title'].tolist()\n",
    "\n",
    "find_close_match = difflib.get_close_matches(input_data, list_of_all_titles)\n",
    "\n",
    "close_match = find_close_match[0]\n",
    "\n",
    "index_of_the_movie = df[df.original_title == close_match]['index'].values[0]\n",
    "\n",
    "similarity_score = list(enumerate(similarity[index_of_the_movie]))\n",
    "\n",
    "sorted_similar_movies = sorted(similarity_score, key = lambda x:x[1], reverse = True) \n",
    "\n",
    "print('Movies suggested for you : \\n')\n",
    "\n",
    "i = 1\n",
    "\n",
    "for movie in sorted_similar_movies:\n",
    "\tindex = movie[0]\n",
    "\ttitle_from_index = df[df.index==index]['original_title'].values[0]\n",
    "\tif (i<30):\n",
    "\t\tprint(i, '.',title_from_index)\n",
    "\t\ti+=1"
   ]
  },
  {
   "cell_type": "code",
   "execution_count": null,
   "id": "bb33ef7d-1db9-407f-b885-e0df5bf653b8",
   "metadata": {},
   "outputs": [],
   "source": []
  }
 ],
 "metadata": {
  "kernelspec": {
   "display_name": "Python 3 (ipykernel)",
   "language": "python",
   "name": "python3"
  },
  "language_info": {
   "codemirror_mode": {
    "name": "ipython",
    "version": 3
   },
   "file_extension": ".py",
   "mimetype": "text/x-python",
   "name": "python",
   "nbconvert_exporter": "python",
   "pygments_lexer": "ipython3",
   "version": "3.9.13"
  }
 },
 "nbformat": 4,
 "nbformat_minor": 5
}
